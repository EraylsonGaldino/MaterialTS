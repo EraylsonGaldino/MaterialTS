{
  "nbformat": 4,
  "nbformat_minor": 0,
  "metadata": {
    "kernelspec": {
      "display_name": "Python 3",
      "language": "python",
      "name": "python3"
    },
    "language_info": {
      "codemirror_mode": {
        "name": "ipython",
        "version": 3
      },
      "file_extension": ".py",
      "mimetype": "text/x-python",
      "name": "python",
      "nbconvert_exporter": "python",
      "pygments_lexer": "ipython3",
      "version": "3.6.1"
    },
    "colab": {
      "name": "Decomposição TS.ipynb",
      "provenance": []
    }
  },
  "cells": [
    {
      "cell_type": "code",
      "metadata": {
        "id": "eu8FjIB7qYEt",
        "colab_type": "code",
        "colab": {}
      },
      "source": [
        "import pandas as pd\n",
        "import matplotlib.pyplot as plt\n",
        "import numpy as np\n",
        "from random import gauss, randrange, random"
      ],
      "execution_count": null,
      "outputs": []
    },
    {
      "cell_type": "code",
      "metadata": {
        "id": "F0UeYC1ZqYEx",
        "colab_type": "code",
        "colab": {}
      },
      "source": [
        "from matplotlib.pylab import rcParams\n",
        "rcParams['figure.figsize'] = 15, 6"
      ],
      "execution_count": null,
      "outputs": []
    },
    {
      "cell_type": "markdown",
      "metadata": {
        "id": "MFQV2o3FqYFp",
        "colab_type": "text"
      },
      "source": [
        "## Modelos Simples de Séries Temporais\n",
        "\n",
        "* Selecionar um modelo probabilístico __adequado__ para os dados é uma das partes mais __importantes__ da análise de séries temporais;\n",
        "* Geralmente, é __suposto__ que cada __observação x__ seja um valor resultante de uma determinada __variável aleatória X__;\n",
        "* Um __modelo__ de série temporal para um determinado dado observado $x_{t}$ é a especificação da composição de distribuições da sequência da variável aleatória $X_{t}$ em que $x_{t}$ é uma observação;\n",
        "\n",
        "\n",
        "### Modelos Simples com média zero\n",
        "\n",
        "* Ruído I.I.D (Independente e Identicamente Distribuído);\n",
        "* Processo Binário;\n",
        "* Random Walk;\n",
        "\n",
        "\n",
        "#### Ruído I.I.D \n",
        "\n",
        "* Modelo mais simples;\n",
        "* Sem componentes de tendência e sazonalidade;\n",
        "* As observações são resultados de variáveis aleátorias i.i.d com média zero;\n",
        "* Não existe dependência entre as observações;\n",
        "* Apesar de não ser interessante para predição, é um modelo que ajuda na construção e entendimento de modelos mais complexos;"
      ]
    },
    {
      "cell_type": "code",
      "metadata": {
        "id": "bVXOM7NaqYFp",
        "colab_type": "code",
        "colab": {}
      },
      "source": [
        "## Série gerada por Ruído I.I.D Gaussiano \n",
        "dados_iid = [gauss(0.0, 1.0) for i in range(500)]\n",
        "serie_iid = pd.Series(dados_iid)"
      ],
      "execution_count": null,
      "outputs": []
    },
    {
      "cell_type": "code",
      "metadata": {
        "id": "O8qkxmDqqYFs",
        "colab_type": "code",
        "colab": {}
      },
      "source": [
        "serie_iid.plot()\n",
        "plt.show()"
      ],
      "execution_count": null,
      "outputs": []
    },
    {
      "cell_type": "markdown",
      "metadata": {
        "id": "69dSpFdVqYFv",
        "colab_type": "text"
      },
      "source": [
        "#### Processo Binário\n",
        "* As observações só podem assumir dois valores possivéis"
      ]
    },
    {
      "cell_type": "code",
      "metadata": {
        "id": "QxRDnIPGqYFw",
        "colab_type": "code",
        "colab": {}
      },
      "source": [
        "serie_vitorias = pd.DataFrame([1,0,0,1,0,1,0,1,1,1,1,1,1,1,0,1,0,1,0,0])"
      ],
      "execution_count": null,
      "outputs": []
    },
    {
      "cell_type": "code",
      "metadata": {
        "id": "pPnaZVwOqYFy",
        "colab_type": "code",
        "colab": {}
      },
      "source": [
        "serie_vitorias.columns = ['Resultado']\n",
        "serie_vitorias.plot()\n",
        "plt.show()"
      ],
      "execution_count": null,
      "outputs": []
    },
    {
      "cell_type": "markdown",
      "metadata": {
        "id": "MIPK-9qxqYF0",
        "colab_type": "text"
      },
      "source": [
        "#### Random Walk\n",
        "\n",
        "* Idéia remete a “caminhada do bêbado”. Tomada de vários passos consecutivos, cada qual em uma direção aleatória;\n",
        "* É obtido através da soma cumulativa de variáveis i.i.d aleatórias: $S_{t} = X_{1} + X_{2}, ..., + X_{t}$\n",
        "* $X_{t}$ é um ruído i.i.d\n",
        "* $S_{t} - S_{t-1} = X_{t}$"
      ]
    },
    {
      "cell_type": "code",
      "metadata": {
        "id": "_JMzu6xLqYF1",
        "colab_type": "code",
        "colab": {}
      },
      "source": [
        "## Série gerada por um Random Walk\n",
        "serie_randomwalk = []\n",
        "serie_randomwalk.append(np.random.normal(0))\n",
        "for i in range(1, 1000):\n",
        "    movement = -1 if random() < 0.5 else 1\n",
        "    value = serie_randomwalk[i-1] + movement\n",
        "    serie_randomwalk.append(value)\n"
      ],
      "execution_count": null,
      "outputs": []
    },
    {
      "cell_type": "code",
      "metadata": {
        "id": "lf0xNJN3qYF3",
        "colab_type": "code",
        "colab": {}
      },
      "source": [
        "serie_randomwalk = pd.Series(serie_randomwalk)\n",
        "serie_randomwalk.plot()\n",
        "plt.show()"
      ],
      "execution_count": null,
      "outputs": []
    },
    {
      "cell_type": "markdown",
      "metadata": {
        "id": "JDtloW7BqYF6",
        "colab_type": "text"
      },
      "source": [
        "### Modelos com tendência e sazonalidade\n",
        "* Algumas séries é perceptível que não podem ser modeladas por modelos simples de média zero;\n",
        "* São geradas com componentes de tendência e sazonalidade;\n",
        "* __Tendência__: mudança sistemática na série temporal que não parece ser periódico;\n",
        "* __Sazonalidade__: comportamento que se repete durante um período; \n",
        "\n",
        "$X_{t} = m_{t} + s_{t} + Y_{t}$\n",
        "\n",
        "\n",
        "###  Modelo com Tendência\n",
        "\n",
        "$$X_{t} = m_{t} + Y_{t}$$\n",
        "\n",
        "$m_{t}$ é um componente de tendência e pode ser estimado através do método de mínimo quadrado:\n",
        "\n",
        "$$m_{t} = a_{0}+a_{1}t+ a_{2}t^2$$\n",
        "\n",
        "Os valores de $a$ são ajustados para minimizar a função: \n",
        "$$\\sum_{t=1}^{n} (x_{t} - m_{t})^2$$"
      ]
    },
    {
      "cell_type": "code",
      "metadata": {
        "id": "3feobYngywXb",
        "colab_type": "code",
        "colab": {}
      },
      "source": [
        "dados = pd.read_excel('vendas_varejo.xlsx')"
      ],
      "execution_count": null,
      "outputs": []
    },
    {
      "cell_type": "code",
      "metadata": {
        "id": "fz2QXTCjqYGi",
        "colab_type": "code",
        "colab": {}
      },
      "source": [
        "dados.head()"
      ],
      "execution_count": null,
      "outputs": []
    },
    {
      "cell_type": "code",
      "metadata": {
        "id": "JMLevFs4zI06",
        "colab_type": "code",
        "colab": {}
      },
      "source": [
        "serie_vendas = pd.Series(dados['Indice'].values, index= dados['Data'])"
      ],
      "execution_count": null,
      "outputs": []
    },
    {
      "cell_type": "code",
      "metadata": {
        "id": "BnUnNqHAzRwk",
        "colab_type": "code",
        "colab": {}
      },
      "source": [
        "serie_vendas.plot()"
      ],
      "execution_count": null,
      "outputs": []
    },
    {
      "cell_type": "code",
      "metadata": {
        "id": "hGP5KtlgzW5A",
        "colab_type": "code",
        "colab": {}
      },
      "source": [
        "serie_vendas.loc['2000':'2002'].plot()"
      ],
      "execution_count": null,
      "outputs": []
    },
    {
      "cell_type": "code",
      "metadata": {
        "id": "UQkFRqIm1WCT",
        "colab_type": "code",
        "colab": {}
      },
      "source": [
        "m_m = serie_vendas.rolling(window=12).mean()\n",
        "m_std = serie_vendas.rolling(window=12).std() \n",
        "\n",
        "orig = plt.plot(serie_vendas, color='blue',label='Original')\n",
        "mean = plt.plot(m_m, color='red',label='Média')\n",
        "std = plt.plot(m_std, color='black',label='Desvio')\n",
        "plt.legend(loc='best')\n",
        "plt.show()"
      ],
      "execution_count": null,
      "outputs": []
    },
    {
      "cell_type": "markdown",
      "metadata": {
        "id": "rX7ewn2j2275",
        "colab_type": "text"
      },
      "source": [
        "#### Estimando o componente de tendência \n",
        "\n",
        "* Em modelos de machine learning, a tendência adiciona uma complexidade temporal, dificultando para o modelo capturar os padrões e a relação entrada e saída;\n",
        "* A tendência pode ser utilizada como uma variável adicional em modelos de machine learning\n",
        "\n",
        "* No entanto, é uma técnica pouca utilizada em machine learning "
      ]
    },
    {
      "cell_type": "code",
      "metadata": {
        "id": "vIwA9EWg2u6w",
        "colab_type": "code",
        "colab": {}
      },
      "source": [
        "#utilizando regressão linear para modelar tendência\n",
        "from sklearn.linear_model import LinearRegression\n",
        "\n",
        "\n",
        "X = [i for i in range(0, len(serie_vendas))] #indices\n",
        "X = np.reshape(X, (len(X), 1))\n",
        "y = serie_vendas\n",
        "modelo = LinearRegression()\n",
        "modelo.fit(X, y)"
      ],
      "execution_count": null,
      "outputs": []
    },
    {
      "cell_type": "code",
      "metadata": {
        "id": "Xs4QJfKp3wxf",
        "colab_type": "code",
        "colab": {}
      },
      "source": [
        "tendencia = modelo.predict(X)"
      ],
      "execution_count": null,
      "outputs": []
    },
    {
      "cell_type": "code",
      "metadata": {
        "id": "wt6hyxo73-T7",
        "colab_type": "code",
        "colab": {}
      },
      "source": [
        "plt.plot(serie_vendas.values, color='blue',label='Original')\n",
        "plt.plot(tendencia,color='red', label='Tendência' )\n",
        "plt.show()"
      ],
      "execution_count": null,
      "outputs": []
    },
    {
      "cell_type": "code",
      "metadata": {
        "id": "nTyK56Fr4E7h",
        "colab_type": "code",
        "colab": {}
      },
      "source": [
        "#eliminando a tendência\n",
        "serie_sem_tendencia = serie_vendas - tendencia"
      ],
      "execution_count": null,
      "outputs": []
    },
    {
      "cell_type": "code",
      "metadata": {
        "id": "5PM8Wp8p4OL2",
        "colab_type": "code",
        "colab": {}
      },
      "source": [
        "m_m = serie_sem_tendencia.rolling(window=12).mean()\n",
        "mean = plt.plot(m_m, color='red',label='Média')\n",
        "plt.plot(serie_sem_tendencia, label='Sem tendencia')\n",
        "plt.legend(loc='best')\n",
        "plt.show()"
      ],
      "execution_count": null,
      "outputs": []
    },
    {
      "cell_type": "markdown",
      "metadata": {
        "id": "rXPXpa-54Tof",
        "colab_type": "text"
      },
      "source": [
        "#### Estimando o componente de sazonalidade\n",
        "\n",
        "* Importância para machine learning semelhante ao componente de tendência"
      ]
    },
    {
      "cell_type": "code",
      "metadata": {
        "id": "lVM0xpDx4P8N",
        "colab_type": "code",
        "colab": {}
      },
      "source": [
        "# fit polynomial\n",
        "from numpy import polyfit\n",
        "\n",
        "X = [i for i in range(0, len(serie_sem_tendencia))]\n",
        "y = serie_sem_tendencia.values\n",
        "degree = 4\n",
        "coef = polyfit(X, y, degree)\n",
        "print('Coefficients: %s' % coef)"
      ],
      "execution_count": null,
      "outputs": []
    },
    {
      "cell_type": "code",
      "metadata": {
        "id": "3eVgrFt94e62",
        "colab_type": "code",
        "colab": {}
      },
      "source": [
        "curva = []\n",
        "for i in range(len(X)):\n",
        "    value = coef[-1]\n",
        "    for d in range(degree):\n",
        "        value += X[i]**(degree-d) * coef[d]\n",
        "    curva.append(value)"
      ],
      "execution_count": null,
      "outputs": []
    },
    {
      "cell_type": "code",
      "metadata": {
        "id": "l1zDCh0_4pW2",
        "colab_type": "code",
        "colab": {}
      },
      "source": [
        "plt.plot(serie_sem_tendencia.values)\n",
        "plt.plot(curva, color='red', label='sazonalidade')\n",
        "plt.legend(loc='best')\n",
        "plt.show()"
      ],
      "execution_count": null,
      "outputs": []
    },
    {
      "cell_type": "code",
      "metadata": {
        "id": "_bGxRvCf5o2N",
        "colab_type": "code",
        "colab": {}
      },
      "source": [
        "#eliminando a sazonalidade\n",
        "serie_sem_tendencia_sazonalidade = serie_sem_tendencia - curva"
      ],
      "execution_count": null,
      "outputs": []
    },
    {
      "cell_type": "code",
      "metadata": {
        "id": "9krP5myw58te",
        "colab_type": "code",
        "colab": {}
      },
      "source": [
        "m_m = serie_sem_tendencia_sazonalidade.rolling(window=12).mean()\n",
        "plt.plot(serie_sem_tendencia_sazonalidade, label='resíduo')\n",
        "mean = plt.plot(m_m, color='red',label='Média')\n",
        "plt.legend(loc='best')\n",
        "plt.show()"
      ],
      "execution_count": null,
      "outputs": []
    },
    {
      "cell_type": "markdown",
      "metadata": {
        "id": "ZdfntoeL6Jd4",
        "colab_type": "text"
      },
      "source": [
        "#### Aplicando Técnicas de Suavização "
      ]
    },
    {
      "cell_type": "code",
      "metadata": {
        "id": "7AcDxsy55_4F",
        "colab_type": "code",
        "colab": {}
      },
      "source": [
        "#Estimando e eliminando a tendência através de média móveis\n",
        "\n",
        "rolling = serie_vendas.rolling(window=12)\n",
        "rolling_mean = rolling.mean()\n",
        "\n",
        "# plot original and transformed dataset\n",
        "plt.plot(serie_vendas, label='Série Real')\n",
        "plt.plot(rolling_mean,color='red', label='Média Móveis')\n",
        "plt.legend(loc='best')\n",
        "plt.show()"
      ],
      "execution_count": null,
      "outputs": []
    },
    {
      "cell_type": "code",
      "metadata": {
        "id": "1i6DltFw6SFR",
        "colab_type": "code",
        "colab": {}
      },
      "source": [
        "serie_sem_tendencia = serie_vendas - rolling_mean"
      ],
      "execution_count": null,
      "outputs": []
    },
    {
      "cell_type": "code",
      "metadata": {
        "id": "mXVj9H9b6ULf",
        "colab_type": "code",
        "colab": {}
      },
      "source": [
        "m_m = serie_sem_tendencia.rolling(window=12).mean()\n",
        "plt.plot(serie_sem_tendencia, label='Sem tendência')\n",
        "mean = plt.plot(m_m, color='red',label='Média')\n",
        "plt.legend(loc='best')\n",
        "plt.show()"
      ],
      "execution_count": null,
      "outputs": []
    },
    {
      "cell_type": "code",
      "metadata": {
        "id": "HvhkKpKJ6WzB",
        "colab_type": "code",
        "colab": {}
      },
      "source": [
        "#### Estimando a tendência através de suavização exponencial\n",
        "rolling = serie_vendas.ewm(alpha =0.5)\n",
        "rolling_exp = rolling.mean()\n",
        "plt.plot(serie_vendas, label='Série Real')\n",
        "plt.plot(rolling_exp,color='red', label='Exponencial')\n",
        "plt.legend(loc='best')\n",
        "plt.show()"
      ],
      "execution_count": null,
      "outputs": []
    },
    {
      "cell_type": "code",
      "metadata": {
        "id": "6xo6FD_b_i_s",
        "colab_type": "code",
        "colab": {}
      },
      "source": [
        "#eliminando a tendência\n",
        "serie_sem_tendencia_exp = serie_vendas - rolling_exp"
      ],
      "execution_count": null,
      "outputs": []
    },
    {
      "cell_type": "code",
      "metadata": {
        "id": "fI2F3tZo_zOT",
        "colab_type": "code",
        "colab": {}
      },
      "source": [
        "m_m = serie_sem_tendencia.rolling(window=12).mean()\n",
        "plt.plot(serie_sem_tendencia_exp, label='Sem tendência')\n",
        "mean = plt.plot(m_m, color='red',label='Média')\n",
        "plt.legend(loc='best')\n",
        "plt.show()"
      ],
      "execution_count": null,
      "outputs": []
    },
    {
      "cell_type": "code",
      "metadata": {
        "id": "zkdSJYvl_2Pl",
        "colab_type": "code",
        "colab": {}
      },
      "source": [
        " #### Estimando e eliminando a sazonalidade através de média móveis\n",
        "\n",
        "rolling = serie_sem_tendencia.rolling(window=3)\n",
        "rolling_mean = rolling.mean()\n",
        "plt.plot(serie_sem_tendencia, label='Série sem tendência')\n",
        "plt.plot(rolling_mean,color='red', label='Sazonalidade estimada')\n",
        "plt.legend(loc='best')\n",
        "plt.show()"
      ],
      "execution_count": null,
      "outputs": []
    },
    {
      "cell_type": "code",
      "metadata": {
        "id": "mQEmbgnLANPC",
        "colab_type": "code",
        "colab": {}
      },
      "source": [
        "# eliminando o componente de sazonalidade\n",
        "serie_sem_tendencia_sazonalidade = serie_sem_tendencia - rolling_mean"
      ],
      "execution_count": null,
      "outputs": []
    },
    {
      "cell_type": "code",
      "metadata": {
        "id": "YYjX9TunARmR",
        "colab_type": "code",
        "colab": {}
      },
      "source": [
        "m_m = serie_sem_tendencia_sazonalidade.rolling(window=12).mean()\n",
        "plt.plot(serie_sem_tendencia_sazonalidade, label='resíduo')\n",
        "mean = plt.plot(m_m, color='red',label='Média')\n",
        "plt.legend(loc='best')\n",
        "plt.show()"
      ],
      "execution_count": null,
      "outputs": []
    },
    {
      "cell_type": "markdown",
      "metadata": {
        "id": "VGGgxt2XBJ2B",
        "colab_type": "text"
      },
      "source": [
        "#### Utilizando decomposição "
      ]
    },
    {
      "cell_type": "code",
      "metadata": {
        "id": "iBl9evOTAeN0",
        "colab_type": "code",
        "colab": {}
      },
      "source": [
        "from statsmodels.tsa.seasonal import seasonal_decompose"
      ],
      "execution_count": null,
      "outputs": []
    },
    {
      "cell_type": "code",
      "metadata": {
        "id": "-RNnJbZ4ATOG",
        "colab_type": "code",
        "colab": {}
      },
      "source": [
        "decomp = seasonal_decompose(serie_vendas)"
      ],
      "execution_count": null,
      "outputs": []
    },
    {
      "cell_type": "code",
      "metadata": {
        "id": "vxna41CUBcI1",
        "colab_type": "code",
        "colab": {}
      },
      "source": [
        "tendencia = decomp.trend\n",
        "sazonalidade = decomp.seasonal\n",
        "residuo = decomp.resid"
      ],
      "execution_count": null,
      "outputs": []
    },
    {
      "cell_type": "code",
      "metadata": {
        "id": "kin-thvkBe7B",
        "colab_type": "code",
        "colab": {}
      },
      "source": [
        "\n",
        "plt.subplot(411)\n",
        "plt.plot(serie_vendas, label='Original')\n",
        "plt.legend(loc='best')\n",
        "plt.subplot(412)\n",
        "plt.plot(tendencia, label='Trend')\n",
        "plt.legend(loc='best')\n",
        "plt.subplot(413)\n",
        "plt.plot(sazonalidade,label='Seasonality')\n",
        "plt.legend(loc='best')\n",
        "plt.subplot(414)\n",
        "plt.plot(residuo, label='Residuals')\n",
        "plt.legend(loc='best')\n",
        "plt.tight_layout()\n",
        "plt.show()"
      ],
      "execution_count": null,
      "outputs": []
    },
    {
      "cell_type": "code",
      "metadata": {
        "id": "AvoX60cGBhd0",
        "colab_type": "code",
        "colab": {}
      },
      "source": [
        "plt.plot(tendencia);"
      ],
      "execution_count": null,
      "outputs": []
    },
    {
      "cell_type": "markdown",
      "metadata": {
        "id": "FqrbosLnF_Pd",
        "colab_type": "text"
      },
      "source": [
        "#### Analisando o ruído"
      ]
    },
    {
      "cell_type": "code",
      "metadata": {
        "id": "aZRD4i6zB-xF",
        "colab_type": "code",
        "colab": {}
      },
      "source": [
        "import statsmodels.graphics.tsaplots as smt"
      ],
      "execution_count": null,
      "outputs": []
    },
    {
      "cell_type": "code",
      "metadata": {
        "id": "1YcUBe6kGOe2",
        "colab_type": "code",
        "colab": {}
      },
      "source": [
        "serie_sem_tendencia_sazonalidade.dropna(inplace=True) "
      ],
      "execution_count": null,
      "outputs": []
    },
    {
      "cell_type": "code",
      "metadata": {
        "id": "2Sdkr3PxGDNB",
        "colab_type": "code",
        "colab": {}
      },
      "source": [
        "smt.plot_acf(serie_sem_tendencia_sazonalidade, lags=20, alpha=0.05);"
      ],
      "execution_count": null,
      "outputs": []
    },
    {
      "cell_type": "code",
      "metadata": {
        "id": "50h9hHqOGLW3",
        "colab_type": "code",
        "colab": {}
      },
      "source": [
        "smt.plot_acf(residuo.dropna(), lags=20, alpha=0.05);"
      ],
      "execution_count": null,
      "outputs": []
    },
    {
      "cell_type": "markdown",
      "metadata": {
        "id": "Yq0lQVAPG2s4",
        "colab_type": "text"
      },
      "source": [
        "#### Aplicando diferenciação"
      ]
    },
    {
      "cell_type": "code",
      "metadata": {
        "id": "kWCgVVOlGp85",
        "colab_type": "code",
        "colab": {}
      },
      "source": [
        "serie_diff_pd = serie_vendas.diff()"
      ],
      "execution_count": null,
      "outputs": []
    },
    {
      "cell_type": "code",
      "metadata": {
        "id": "uXp5hko6HX8E",
        "colab_type": "code",
        "colab": {}
      },
      "source": [
        "serie_diff_pd.plot()"
      ],
      "execution_count": null,
      "outputs": []
    },
    {
      "cell_type": "code",
      "metadata": {
        "id": "SJ5e9u_vHa66",
        "colab_type": "code",
        "colab": {}
      },
      "source": [
        "serie_diff_pd.diff().plot()"
      ],
      "execution_count": null,
      "outputs": []
    },
    {
      "cell_type": "code",
      "metadata": {
        "id": "02alBnpQHhJC",
        "colab_type": "code",
        "colab": {}
      },
      "source": [
        "smt.plot_acf(serie_diff_pd.dropna(), lags=20, alpha=0.05);"
      ],
      "execution_count": null,
      "outputs": []
    },
    {
      "cell_type": "code",
      "metadata": {
        "id": "uOkPobknIVLT",
        "colab_type": "code",
        "colab": {}
      },
      "source": [
        "serie_vendas.diff(12).plot()"
      ],
      "execution_count": null,
      "outputs": []
    },
    {
      "cell_type": "code",
      "metadata": {
        "id": "jYsX4pVdHq1G",
        "colab_type": "code",
        "colab": {}
      },
      "source": [
        "smt.plot_acf(serie_vendas.diff(12).dropna(), lags=20, alpha=0.05);"
      ],
      "execution_count": null,
      "outputs": []
    },
    {
      "cell_type": "code",
      "metadata": {
        "id": "ZafS6f5bH36s",
        "colab_type": "code",
        "colab": {}
      },
      "source": [
        "smt.plot_acf(serie_vendas, lags=20, alpha=0.05);"
      ],
      "execution_count": null,
      "outputs": []
    },
    {
      "cell_type": "code",
      "metadata": {
        "id": "6MEpRx6LMlz2",
        "colab_type": "code",
        "colab": {}
      },
      "source": [
        ""
      ],
      "execution_count": null,
      "outputs": []
    }
  ]
}
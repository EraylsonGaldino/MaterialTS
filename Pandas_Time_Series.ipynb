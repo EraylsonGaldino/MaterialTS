{
  "nbformat": 4,
  "nbformat_minor": 0,
  "metadata": {
    "colab": {
      "name": "Pandas Time Series.ipynb",
      "provenance": [],
      "collapsed_sections": []
    },
    "kernelspec": {
      "name": "python3",
      "display_name": "Python 3"
    }
  },
  "cells": [
    {
      "cell_type": "code",
      "metadata": {
        "id": "6C-jTjgKpx7A",
        "colab_type": "code",
        "colab": {}
      },
      "source": [
        "import pandas as pd"
      ],
      "execution_count": null,
      "outputs": []
    },
    {
      "cell_type": "code",
      "metadata": {
        "id": "RDzNLqrer7Aj",
        "colab_type": "code",
        "colab": {}
      },
      "source": [
        "#https://www.kaggle.com/sumanthvrao/daily-climate-time-series-data\n",
        "dados = pd.read_csv('datasets_312121_636393_DailyDelhiClimateTrain.csv')"
      ],
      "execution_count": null,
      "outputs": []
    },
    {
      "cell_type": "code",
      "metadata": {
        "id": "LsB4yDv9sE6e",
        "colab_type": "code",
        "colab": {}
      },
      "source": [
        "dados"
      ],
      "execution_count": null,
      "outputs": []
    },
    {
      "cell_type": "code",
      "metadata": {
        "id": "Sqp2MdaysGke",
        "colab_type": "code",
        "colab": {}
      },
      "source": [
        "dados.head()"
      ],
      "execution_count": null,
      "outputs": []
    },
    {
      "cell_type": "code",
      "metadata": {
        "id": "0Bybqvn8vuxy",
        "colab_type": "code",
        "colab": {}
      },
      "source": [
        "dados.tail()"
      ],
      "execution_count": null,
      "outputs": []
    },
    {
      "cell_type": "code",
      "metadata": {
        "id": "AZUkeRlKvwPd",
        "colab_type": "code",
        "colab": {}
      },
      "source": [
        "#criando uma coluna de datas\n",
        "#https://pandas.pydata.org/pandas-docs/stable/user_guide/timeseries.html#offset-aliases\n",
        "\n",
        "datas = pd.date_range(start = '01-01-2013', end = '01-01-2017', freq='D')"
      ],
      "execution_count": null,
      "outputs": []
    },
    {
      "cell_type": "code",
      "metadata": {
        "id": "mGwyP6HjFDNX",
        "colab_type": "code",
        "colab": {}
      },
      "source": [
        "datas"
      ],
      "execution_count": null,
      "outputs": []
    },
    {
      "cell_type": "code",
      "metadata": {
        "id": "3XiZGs1Y09PI",
        "colab_type": "code",
        "colab": {}
      },
      "source": [
        "datas_series = pd.Series(pd.to_datetime(datas))"
      ],
      "execution_count": null,
      "outputs": []
    },
    {
      "cell_type": "code",
      "metadata": {
        "id": "Dtkc5Nvy1U8S",
        "colab_type": "code",
        "colab": {}
      },
      "source": [
        "datas_series"
      ],
      "execution_count": null,
      "outputs": []
    },
    {
      "cell_type": "code",
      "metadata": {
        "id": "7j1Lk6QEQ3Xt",
        "colab_type": "code",
        "colab": {}
      },
      "source": [
        " \n",
        "datas_comerc = pd.bdate_range(start = '01-01-2013', end = '01-01-2017')"
      ],
      "execution_count": null,
      "outputs": []
    },
    {
      "cell_type": "code",
      "metadata": {
        "id": "pvdXvw1vQ3pQ",
        "colab_type": "code",
        "colab": {}
      },
      "source": [
        "datas_comerc_series = pd.Series(pd.to_datetime(datas_comerc))"
      ],
      "execution_count": null,
      "outputs": []
    },
    {
      "cell_type": "code",
      "metadata": {
        "id": "IkBTBNOeRszy",
        "colab_type": "code",
        "colab": {}
      },
      "source": [
        "datas_comerc_series.head(30)"
      ],
      "execution_count": null,
      "outputs": []
    },
    {
      "cell_type": "code",
      "metadata": {
        "id": "QGwzqDAv1EfR",
        "colab_type": "code",
        "colab": {}
      },
      "source": [
        "#https://docs.python.org/3/library/datetime.html#strftime-and-strptime-behavior\n",
        "datas_series.dt.strftime(\"%d/%m/%Y\")"
      ],
      "execution_count": null,
      "outputs": []
    },
    {
      "cell_type": "code",
      "metadata": {
        "id": "0gxKZ4fo1rUT",
        "colab_type": "code",
        "colab": {}
      },
      "source": [
        "dados.dtypes"
      ],
      "execution_count": null,
      "outputs": []
    },
    {
      "cell_type": "code",
      "metadata": {
        "id": "CHjlM4nI-xLL",
        "colab_type": "code",
        "colab": {}
      },
      "source": [
        "pd.to_datetime(dados['date'], format='%Y/%m/%d')"
      ],
      "execution_count": null,
      "outputs": []
    },
    {
      "cell_type": "code",
      "metadata": {
        "id": "He5ZUMPrIjXq",
        "colab_type": "code",
        "colab": {}
      },
      "source": [
        "pd.to_datetime(dados['date'])"
      ],
      "execution_count": null,
      "outputs": []
    },
    {
      "cell_type": "code",
      "metadata": {
        "id": "IDARJr1gwRtM",
        "colab_type": "code",
        "colab": {}
      },
      "source": [
        "dados['date'] = pd.to_datetime(dados['date'])"
      ],
      "execution_count": null,
      "outputs": []
    },
    {
      "cell_type": "code",
      "metadata": {
        "id": "Vy81KbIZ1h_Z",
        "colab_type": "code",
        "colab": {}
      },
      "source": [
        "dados['date']"
      ],
      "execution_count": null,
      "outputs": []
    },
    {
      "cell_type": "code",
      "metadata": {
        "id": "Ixjn8rys1nBG",
        "colab_type": "code",
        "colab": {}
      },
      "source": [
        "dados.dtypes"
      ],
      "execution_count": null,
      "outputs": []
    },
    {
      "cell_type": "code",
      "metadata": {
        "id": "DNM18lgX5MsJ",
        "colab_type": "code",
        "colab": {}
      },
      "source": [
        "#usando a data como index\n",
        "dados.set_index('date', inplace=True)"
      ],
      "execution_count": null,
      "outputs": []
    },
    {
      "cell_type": "code",
      "metadata": {
        "id": "TmB5B8855U4v",
        "colab_type": "code",
        "colab": {}
      },
      "source": [
        "dados"
      ],
      "execution_count": null,
      "outputs": []
    },
    {
      "cell_type": "code",
      "metadata": {
        "id": "eSDWQ9vKI9j2",
        "colab_type": "code",
        "colab": {}
      },
      "source": [
        "#mostrando os valores de index\n",
        "dados.index.year"
      ],
      "execution_count": null,
      "outputs": []
    },
    {
      "cell_type": "code",
      "metadata": {
        "id": "itfI36ZLJMRw",
        "colab_type": "code",
        "colab": {}
      },
      "source": [
        "dados.index.month"
      ],
      "execution_count": null,
      "outputs": []
    },
    {
      "cell_type": "code",
      "metadata": {
        "id": "RFm54uqcJdnI",
        "colab_type": "code",
        "colab": {}
      },
      "source": [
        "dados.index.weekday"
      ],
      "execution_count": null,
      "outputs": []
    },
    {
      "cell_type": "code",
      "metadata": {
        "id": "p84-PLLNJjcz",
        "colab_type": "code",
        "colab": {}
      },
      "source": [
        "#obtendo dados de uma determinada data\n",
        "dados.loc['2016-12-28']"
      ],
      "execution_count": null,
      "outputs": []
    },
    {
      "cell_type": "code",
      "metadata": {
        "id": "G-c2rQ7sKEVP",
        "colab_type": "code",
        "colab": {}
      },
      "source": [
        "#obtendo dados de um intervalo de datas\n",
        "dados.loc['2016-01-01': '2016-01-30']"
      ],
      "execution_count": null,
      "outputs": []
    },
    {
      "cell_type": "code",
      "metadata": {
        "id": "l8oUgEiRKVA7",
        "colab_type": "code",
        "colab": {}
      },
      "source": [
        "#buscando de um ano\n",
        "dados.loc['2016']"
      ],
      "execution_count": null,
      "outputs": []
    },
    {
      "cell_type": "code",
      "metadata": {
        "id": "BmIzbzjfKfwr",
        "colab_type": "code",
        "colab": {}
      },
      "source": [
        "#buscando de um mês\n",
        "dados.loc['2016-12']"
      ],
      "execution_count": null,
      "outputs": []
    },
    {
      "cell_type": "markdown",
      "metadata": {
        "id": "Sc5i63yiKqCb",
        "colab_type": "text"
      },
      "source": [
        "#### Vizualização"
      ]
    },
    {
      "cell_type": "code",
      "metadata": {
        "id": "dhh7rvStKlBO",
        "colab_type": "code",
        "colab": {}
      },
      "source": [
        "import matplotlib.pyplot as plt\n",
        "import seaborn as sns"
      ],
      "execution_count": null,
      "outputs": []
    },
    {
      "cell_type": "code",
      "metadata": {
        "id": "AWuGMTn6KuSD",
        "colab_type": "code",
        "colab": {}
      },
      "source": [
        "sns.set(rc={'figure.figsize':(12, 4)})"
      ],
      "execution_count": null,
      "outputs": []
    },
    {
      "cell_type": "code",
      "metadata": {
        "id": "H_-VsyDYKw4H",
        "colab_type": "code",
        "colab": {}
      },
      "source": [
        "dados['humidity'].plot()"
      ],
      "execution_count": null,
      "outputs": []
    },
    {
      "cell_type": "code",
      "metadata": {
        "id": "A8-ZKN2kK3Oy",
        "colab_type": "code",
        "colab": {}
      },
      "source": [
        "cols_plot = dados.columns\n",
        "dados[cols_plot].plot( figsize=(16, 10), subplots=True);\n"
      ],
      "execution_count": null,
      "outputs": []
    },
    {
      "cell_type": "code",
      "metadata": {
        "id": "uTlzP_BLLcCP",
        "colab_type": "code",
        "colab": {}
      },
      "source": [
        "#plot de um determinado ano\n",
        "ax = dados.loc['2016', 'meantemp'].plot()\n",
        "ax.set_ylabel('Temp Mean');"
      ],
      "execution_count": null,
      "outputs": []
    },
    {
      "cell_type": "code",
      "metadata": {
        "id": "w6Gyd5_VMguz",
        "colab_type": "code",
        "colab": {}
      },
      "source": [
        "#mais detalhes de determinado periodo\n",
        "ax = dados.loc['2016-01':'2016-02', 'meantemp'].plot(marker='o', linestyle='-')\n",
        "ax.set_ylabel('Temp Mean');"
      ],
      "execution_count": null,
      "outputs": []
    },
    {
      "cell_type": "code",
      "metadata": {
        "id": "AC_1yWEWM99u",
        "colab_type": "code",
        "colab": {}
      },
      "source": [
        "m_m = dados['meantemp'].rolling(window=7).mean()\n",
        "m_std = dados['meantemp'].rolling(window=7).std() \n",
        "\n",
        "orig = plt.plot(dados['meantemp'], color='blue',label='Temp')\n",
        "mean = plt.plot(m_m, color='red',label='Média')\n",
        "std = plt.plot(m_std, color='black',label='Desvio')\n",
        "plt.legend(loc='best')\n",
        "plt.show()"
      ],
      "execution_count": null,
      "outputs": []
    },
    {
      "cell_type": "code",
      "metadata": {
        "id": "cS0XRopHUiae",
        "colab_type": "code",
        "colab": {}
      },
      "source": [
        ""
      ],
      "execution_count": null,
      "outputs": []
    }
  ]
}